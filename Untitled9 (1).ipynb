{
  "nbformat": 4,
  "nbformat_minor": 0,
  "metadata": {
    "colab": {
      "provenance": []
    },
    "kernelspec": {
      "name": "python3",
      "display_name": "Python 3"
    },
    "language_info": {
      "name": "python"
    }
  },
  "cells": [
    {
      "cell_type": "code",
      "execution_count": 1,
      "metadata": {
        "colab": {
          "base_uri": "https://localhost:8080/"
        },
        "id": "HKUTsEhi6lGy",
        "outputId": "d996ca27-85f0-486f-c165-4c9b144f0679"
      },
      "outputs": [
        {
          "output_type": "stream",
          "name": "stdout",
          "text": [
            "1\n",
            "fizz\n",
            "buzz\n",
            "fizz\n",
            "5\n",
            "fizzbuzz\n",
            "7\n",
            "fizz\n",
            "buzz\n",
            "fizz\n",
            "11\n",
            "fizzbuzz\n",
            "13\n",
            "fizz\n",
            "buzz\n",
            "fizz\n",
            "17\n",
            "fizzbuzz\n",
            "19\n",
            "fizz\n",
            "buzz\n",
            "fizz\n",
            "23\n",
            "fizzbuzz\n",
            "25\n",
            "fizz\n",
            "buzz\n",
            "fizz\n",
            "29\n",
            "fizzbuzz\n",
            "31\n",
            "fizz\n",
            "buzz\n",
            "fizz\n",
            "35\n",
            "fizzbuzz\n",
            "37\n",
            "fizz\n",
            "buzz\n",
            "fizz\n",
            "41\n",
            "fizzbuzz\n",
            "43\n",
            "fizz\n",
            "buzz\n",
            "fizz\n",
            "47\n",
            "fizzbuzz\n",
            "49\n",
            "fizz\n"
          ]
        }
      ],
      "source": [
        "def fizzbuzz():\n",
        "    for num in range(1, 51):\n",
        "        if num % 2 == 0 and num % 3 == 0:\n",
        "            print('fizzbuzz')\n",
        "        elif num % 2 == 0:\n",
        "            print('fizz')\n",
        "        elif num % 3 == 0:\n",
        "            print('buzz')\n",
        "        else:\n",
        "            print(num)\n",
        "\n",
        "if __name__ == \"__main__\":\n",
        "    fizzbuzz()"
      ]
    }
  ]
}