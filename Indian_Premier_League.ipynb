{
  "nbformat": 4,
  "nbformat_minor": 0,
  "metadata": {
    "colab": {
      "provenance": []
    },
    "kernelspec": {
      "name": "python3",
      "display_name": "Python 3"
    },
    "language_info": {
      "name": "python"
    }
  },
  "cells": [
    {
      "cell_type": "markdown",
      "source": [
        "Load the dataset"
      ],
      "metadata": {
        "id": "GXuF-vP5-3XV"
      }
    },
    {
      "cell_type": "code",
      "execution_count": 1,
      "metadata": {
        "id": "Dl99Y7pN-rmD"
      },
      "outputs": [],
      "source": [
        "import pandas as pd\n",
        "import matplotlib.pyplot as plt\n",
        "import seaborn as sns\n",
        "\n",
        "# Load the datasets\n",
        "matches_df = pd.read_csv('matches.csv')\n",
        "deliveries_df = pd.read_csv('deliveries.csv')"
      ]
    },
    {
      "cell_type": "markdown",
      "source": [
        "Explore the basic information of the datasets"
      ],
      "metadata": {
        "id": "5IXppzeL-01K"
      }
    },
    {
      "cell_type": "code",
      "source": [
        "print(\"Matches DataFrame Info:\")\n",
        "print(matches_df.info())\n",
        "\n",
        "print(\"\\nDeliveries DataFrame Info:\")\n",
        "print(deliveries_df.info())"
      ],
      "metadata": {
        "colab": {
          "base_uri": "https://localhost:8080/"
        },
        "id": "IolwC5Dy-tB7",
        "outputId": "18d36ec1-4d0c-42bb-bf13-e2a48627fd57"
      },
      "execution_count": 2,
      "outputs": [
        {
          "output_type": "stream",
          "name": "stdout",
          "text": [
            "Matches DataFrame Info:\n",
            "<class 'pandas.core.frame.DataFrame'>\n",
            "RangeIndex: 756 entries, 0 to 755\n",
            "Data columns (total 18 columns):\n",
            " #   Column           Non-Null Count  Dtype \n",
            "---  ------           --------------  ----- \n",
            " 0   id               756 non-null    int64 \n",
            " 1   season           756 non-null    int64 \n",
            " 2   city             749 non-null    object\n",
            " 3   date             756 non-null    object\n",
            " 4   team1            756 non-null    object\n",
            " 5   team2            756 non-null    object\n",
            " 6   toss_winner      756 non-null    object\n",
            " 7   toss_decision    756 non-null    object\n",
            " 8   result           756 non-null    object\n",
            " 9   dl_applied       756 non-null    int64 \n",
            " 10  winner           752 non-null    object\n",
            " 11  win_by_runs      756 non-null    int64 \n",
            " 12  win_by_wickets   756 non-null    int64 \n",
            " 13  player_of_match  752 non-null    object\n",
            " 14  venue            756 non-null    object\n",
            " 15  umpire1          754 non-null    object\n",
            " 16  umpire2          754 non-null    object\n",
            " 17  umpire3          119 non-null    object\n",
            "dtypes: int64(5), object(13)\n",
            "memory usage: 106.4+ KB\n",
            "None\n",
            "\n",
            "Deliveries DataFrame Info:\n",
            "<class 'pandas.core.frame.DataFrame'>\n",
            "RangeIndex: 20736 entries, 0 to 20735\n",
            "Data columns (total 21 columns):\n",
            " #   Column            Non-Null Count  Dtype  \n",
            "---  ------            --------------  -----  \n",
            " 0   match_id          20736 non-null  int64  \n",
            " 1   inning            20736 non-null  int64  \n",
            " 2   batting_team      20736 non-null  object \n",
            " 3   bowling_team      20736 non-null  object \n",
            " 4   over              20736 non-null  int64  \n",
            " 5   ball              20736 non-null  int64  \n",
            " 6   batsman           20736 non-null  object \n",
            " 7   non_striker       20736 non-null  object \n",
            " 8   bowler            20736 non-null  object \n",
            " 9   is_super_over     20736 non-null  int64  \n",
            " 10  wide_runs         20735 non-null  float64\n",
            " 11  bye_runs          20735 non-null  float64\n",
            " 12  legbye_runs       20735 non-null  float64\n",
            " 13  noball_runs       20735 non-null  float64\n",
            " 14  penalty_runs      20735 non-null  float64\n",
            " 15  batsman_runs      20735 non-null  float64\n",
            " 16  extra_runs        20735 non-null  float64\n",
            " 17  total_runs        20735 non-null  float64\n",
            " 18  player_dismissed  1064 non-null   object \n",
            " 19  dismissal_kind    1064 non-null   object \n",
            " 20  fielder           748 non-null    object \n",
            "dtypes: float64(8), int64(5), object(8)\n",
            "memory usage: 3.3+ MB\n",
            "None\n"
          ]
        }
      ]
    },
    {
      "cell_type": "markdown",
      "source": [
        "Summary statistics of matches and deliveries DataFrames"
      ],
      "metadata": {
        "id": "JGl9dNsl-90k"
      }
    },
    {
      "cell_type": "code",
      "source": [
        "print(\"\\nSummary Statistics of Matches DataFrame:\")\n",
        "print(matches_df.describe())\n",
        "\n",
        "print(\"\\nSummary Statistics of Deliveries DataFrame:\")\n",
        "print(deliveries_df.describe())"
      ],
      "metadata": {
        "colab": {
          "base_uri": "https://localhost:8080/"
        },
        "id": "yJ1690Ab-yGA",
        "outputId": "d8d579ba-d156-4e8e-af41-d478e9b841d7"
      },
      "execution_count": 3,
      "outputs": [
        {
          "output_type": "stream",
          "name": "stdout",
          "text": [
            "\n",
            "Summary Statistics of Matches DataFrame:\n",
            "                 id       season  dl_applied  win_by_runs  win_by_wickets\n",
            "count    756.000000   756.000000  756.000000   756.000000      756.000000\n",
            "mean    1792.178571  2013.444444    0.025132    13.283069        3.350529\n",
            "std     3464.478148     3.366895    0.156630    23.471144        3.387963\n",
            "min        1.000000  2008.000000    0.000000     0.000000        0.000000\n",
            "25%      189.750000  2011.000000    0.000000     0.000000        0.000000\n",
            "50%      378.500000  2013.000000    0.000000     0.000000        4.000000\n",
            "75%      567.250000  2016.000000    0.000000    19.000000        6.000000\n",
            "max    11415.000000  2019.000000    1.000000   146.000000       10.000000\n",
            "\n",
            "Summary Statistics of Deliveries DataFrame:\n",
            "           match_id        inning          over          ball  is_super_over  \\\n",
            "count  20736.000000  20736.000000  20736.000000  20736.000000   20736.000000   \n",
            "mean      44.410831      1.476514     10.058642      3.617332       0.000627   \n",
            "std       25.511794      0.502253      5.645985      1.808809       0.025031   \n",
            "min        1.000000      1.000000      1.000000      1.000000       0.000000   \n",
            "25%       22.000000      1.000000      5.000000      2.000000       0.000000   \n",
            "50%       44.000000      1.000000     10.000000      4.000000       0.000000   \n",
            "75%       67.000000      2.000000     15.000000      5.000000       0.000000   \n",
            "max       89.000000      4.000000     20.000000      9.000000       1.000000   \n",
            "\n",
            "          wide_runs      bye_runs   legbye_runs   noball_runs  penalty_runs  \\\n",
            "count  20735.000000  20735.000000  20735.000000  20735.000000  20735.000000   \n",
            "mean       0.037135      0.004919      0.022571      0.004389      0.000241   \n",
            "std        0.247043      0.114431      0.197827      0.067547      0.034723   \n",
            "min        0.000000      0.000000      0.000000      0.000000      0.000000   \n",
            "25%        0.000000      0.000000      0.000000      0.000000      0.000000   \n",
            "50%        0.000000      0.000000      0.000000      0.000000      0.000000   \n",
            "75%        0.000000      0.000000      0.000000      0.000000      0.000000   \n",
            "max        5.000000      4.000000      5.000000      2.000000      5.000000   \n",
            "\n",
            "       batsman_runs    extra_runs    total_runs  \n",
            "count  20735.000000  20735.000000  20735.000000  \n",
            "mean       1.279672      0.069255      1.348927  \n",
            "std        1.646208      0.340829      1.631307  \n",
            "min        0.000000      0.000000      0.000000  \n",
            "25%        0.000000      0.000000      0.000000  \n",
            "50%        1.000000      0.000000      1.000000  \n",
            "75%        1.000000      0.000000      1.000000  \n",
            "max        6.000000      5.000000      7.000000  \n"
          ]
        }
      ]
    },
    {
      "cell_type": "markdown",
      "source": [
        "Check unique values of important columns"
      ],
      "metadata": {
        "id": "VQk3OKSF_Dzv"
      }
    },
    {
      "cell_type": "code",
      "source": [
        "print(\"\\nUnique Values in Matches DataFrame:\")\n",
        "print(matches_df.nunique())\n",
        "\n",
        "print(\"\\nUnique Values in Deliveries DataFrame:\")\n",
        "print(deliveries_df.nunique())"
      ],
      "metadata": {
        "colab": {
          "base_uri": "https://localhost:8080/"
        },
        "id": "I7sBxLTh_Eo3",
        "outputId": "6b2273a4-d080-4542-c902-53eadc99cb77"
      },
      "execution_count": 4,
      "outputs": [
        {
          "output_type": "stream",
          "name": "stdout",
          "text": [
            "\n",
            "Unique Values in Matches DataFrame:\n",
            "id                 756\n",
            "season              12\n",
            "city                32\n",
            "date               546\n",
            "team1               15\n",
            "team2               15\n",
            "toss_winner         15\n",
            "toss_decision        2\n",
            "result               3\n",
            "dl_applied           2\n",
            "winner              15\n",
            "win_by_runs         89\n",
            "win_by_wickets      11\n",
            "player_of_match    226\n",
            "venue               41\n",
            "umpire1             61\n",
            "umpire2             65\n",
            "umpire3             25\n",
            "dtype: int64\n",
            "\n",
            "Unique Values in Deliveries DataFrame:\n",
            "match_id             89\n",
            "inning                4\n",
            "batting_team         11\n",
            "bowling_team         11\n",
            "over                 20\n",
            "ball                  9\n",
            "batsman             242\n",
            "non_striker         241\n",
            "bowler              174\n",
            "is_super_over         2\n",
            "wide_runs             5\n",
            "bye_runs              4\n",
            "legbye_runs           6\n",
            "noball_runs           3\n",
            "penalty_runs          2\n",
            "batsman_runs          7\n",
            "extra_runs            6\n",
            "total_runs            8\n",
            "player_dismissed    221\n",
            "dismissal_kind        8\n",
            "fielder             209\n",
            "dtype: int64\n"
          ]
        }
      ]
    },
    {
      "cell_type": "markdown",
      "source": [
        "Data Cleaning"
      ],
      "metadata": {
        "id": "fZKIKnVk_HCt"
      }
    },
    {
      "cell_type": "code",
      "source": [
        "# Check for missing values in Matches DataFrame\n",
        "print(\"\\nMissing Values in Matches DataFrame:\")\n",
        "print(matches_df.isnull().sum())\n",
        "\n",
        "# Check for missing values in Deliveries DataFrame\n",
        "print(\"\\nMissing Values in Deliveries DataFrame:\")\n",
        "print(deliveries_df.isnull().sum())"
      ],
      "metadata": {
        "colab": {
          "base_uri": "https://localhost:8080/"
        },
        "id": "s9FLJWts_KIZ",
        "outputId": "0c6072ab-c0a3-4b11-e68e-c2199ba6af36"
      },
      "execution_count": 5,
      "outputs": [
        {
          "output_type": "stream",
          "name": "stdout",
          "text": [
            "\n",
            "Missing Values in Matches DataFrame:\n",
            "id                   0\n",
            "season               0\n",
            "city                 7\n",
            "date                 0\n",
            "team1                0\n",
            "team2                0\n",
            "toss_winner          0\n",
            "toss_decision        0\n",
            "result               0\n",
            "dl_applied           0\n",
            "winner               4\n",
            "win_by_runs          0\n",
            "win_by_wickets       0\n",
            "player_of_match      4\n",
            "venue                0\n",
            "umpire1              2\n",
            "umpire2              2\n",
            "umpire3            637\n",
            "dtype: int64\n",
            "\n",
            "Missing Values in Deliveries DataFrame:\n",
            "match_id                0\n",
            "inning                  0\n",
            "batting_team            0\n",
            "bowling_team            0\n",
            "over                    0\n",
            "ball                    0\n",
            "batsman                 0\n",
            "non_striker             0\n",
            "bowler                  0\n",
            "is_super_over           0\n",
            "wide_runs               1\n",
            "bye_runs                1\n",
            "legbye_runs             1\n",
            "noball_runs             1\n",
            "penalty_runs            1\n",
            "batsman_runs            1\n",
            "extra_runs              1\n",
            "total_runs              1\n",
            "player_dismissed    19672\n",
            "dismissal_kind      19672\n",
            "fielder             19988\n",
            "dtype: int64\n"
          ]
        }
      ]
    },
    {
      "cell_type": "markdown",
      "source": [
        "Data Visualization"
      ],
      "metadata": {
        "id": "hTX0mfbe_MmZ"
      }
    },
    {
      "cell_type": "code",
      "source": [
        "# Example 1: Bar chart for most successful teams\n",
        "plt.figure(figsize=(10, 6))\n",
        "sns.countplot(x='winner', data=matches_df, order=matches_df['winner'].value_counts().index)\n",
        "plt.title(\"Most Successful Teams in IPL\")\n",
        "plt.xlabel(\"Team\")\n",
        "plt.ylabel(\"Wins\")\n",
        "plt.xticks(rotation=90)\n",
        "plt.show()\n"
      ],
      "metadata": {
        "colab": {
          "base_uri": "https://localhost:8080/",
          "height": 750
        },
        "id": "ssQ4vst6_PZF",
        "outputId": "b34ca35c-ec8f-4a1e-dae8-38e670d89988"
      },
      "execution_count": 8,
      "outputs": [
        {
          "output_type": "display_data",
          "data": {
            "text/plain": [
              "<Figure size 1000x600 with 1 Axes>"
            ],
            "image/png": "[encoded data removed]"
          },
          "metadata": {}
        }
      ]
    },
    {
      "cell_type": "markdown",
      "source": [
        "Derive Insights"
      ],
      "metadata": {
        "id": "JBKIY1oo_cp4"
      }
    },
    {
      "cell_type": "code",
      "source": [
        "\n",
        "# Most successful teams\n",
        "most_successful_teams = matches_df['winner'].value_counts().idxmax()\n",
        "\n",
        "# Top-performing players with the most \"Player of the Match\" awards\n",
        "top_players = matches_df['player_of_match'].value_counts().idxmax()\n",
        "\n",
        "# Factors contributing to wins or losses\n",
        "factors_wins_losses = matches_df.groupby('winner')[['win_by_runs', 'win_by_wickets']].mean()\n",
        "\n",
        "# Suggest teams or players for endorsement based on specific criteria (if required)\n",
        "# Example: Suggest the top 5 players with the highest total runs\n",
        "total_runs_by_player = deliveries_df.groupby('batsman')['batsman_runs'].sum()\n",
        "top_players_for_endorsement = total_runs_by_player.nlargest(5)\n",
        "\n",
        "# Example: Suggest the top 3 teams with the highest total runs\n",
        "total_runs_by_team = deliveries_df.groupby('batting_team')['total_runs'].sum()\n",
        "top_teams_for_endorsement = total_runs_by_team.nlargest(3)\n",
        "\n",
        "# Display the results\n",
        "print(\"\\nMost Successful Teams:\")\n",
        "print(most_successful_teams)\n",
        "\n",
        "print(\"\\nTop Performing Players:\")\n",
        "print(top_players)\n",
        "\n",
        "print(\"\\nFactors Contributing to Wins or Losses:\")\n",
        "print(factors_wins_losses)\n",
        "\n",
        "print(\"\\nTop Players for Endorsement:\")\n",
        "print(top_players_for_endorsement)\n",
        "\n",
        "print(\"\\nTop Teams for Endorsement:\")\n",
        "print(top_teams_for_endorsement)"
      ],
      "metadata": {
        "colab": {
          "base_uri": "https://localhost:8080/"
        },
        "id": "EZMpnApqAETm",
        "outputId": "69760643-0daa-42fc-bf86-bb2337ae980f"
      },
      "execution_count": 7,
      "outputs": [
        {
          "output_type": "stream",
          "name": "stdout",
          "text": [
            "\n",
            "Most Successful Teams:\n",
            "Mumbai Indians\n",
            "\n",
            "Top Performing Players:\n",
            "CH Gayle\n",
            "\n",
            "Factors Contributing to Wins or Losses:\n",
            "                             win_by_runs  win_by_wickets\n",
            "winner                                                  \n",
            "Chennai Super Kings            17.780000        2.890000\n",
            "Deccan Chargers                14.517241        2.482759\n",
            "Delhi Capitals                  9.200000        2.900000\n",
            "Delhi Daredevils               10.074627        4.104478\n",
            "Gujarat Lions                   0.076923        5.000000\n",
            "Kings XI Punjab                11.280488        3.268293\n",
            "Kochi Tuskers Kerala            3.833333        5.000000\n",
            "Kolkata Knight Riders          11.804348        3.815217\n",
            "Mumbai Indians                 17.119266        2.816514\n",
            "Pune Warriors                  11.583333        3.000000\n",
            "Rajasthan Royals               11.933333        3.640000\n",
            "Rising Pune Supergiant         12.300000        3.100000\n",
            "Rising Pune Supergiants        10.600000        4.000000\n",
            "Royal Challengers Bangalore    14.904762        3.738095\n",
            "Sunrisers Hyderabad            12.293103        2.982759\n",
            "\n",
            "Top Players for Endorsement:\n",
            "batsman\n",
            "G Gambhir     803.0\n",
            "S Dhawan      685.0\n",
            "DA Warner     641.0\n",
            "SK Raina      618.0\n",
            "RV Uthappa    599.0\n",
            "Name: batsman_runs, dtype: float64\n",
            "\n",
            "Top Teams for Endorsement:\n",
            "batting_team\n",
            "Mumbai Indians           3841.0\n",
            "Kolkata Knight Riders    3551.0\n",
            "Kings XI Punjab          3396.0\n",
            "Name: total_runs, dtype: float64\n"
          ]
        }
      ]
    }
  ]
}