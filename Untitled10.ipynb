{
  "nbformat": 4,
  "nbformat_minor": 0,
  "metadata": {
    "colab": {
      "provenance": []
    },
    "kernelspec": {
      "name": "python3",
      "display_name": "Python 3"
    },
    "language_info": {
      "name": "python"
    }
  },
  "cells": [
    {
      "cell_type": "code",
      "execution_count": 2,
      "metadata": {
        "colab": {
          "base_uri": "https://localhost:8080/"
        },
        "id": "2-JJGYlp74nx",
        "outputId": "cfa9e844-46b5-4d52-c408-00d50bc49047"
      },
      "outputs": [
        {
          "output_type": "stream",
          "name": "stdout",
          "text": [
            "    code             location\n",
            "0  00000        UNITED STATES\n",
            "1  01000              ALABAMA\n",
            "2  01001  Autauga Country, AL\n",
            "3  01003   Baldwin County, AL\n",
            "4  01005   Barbour County, AL\n"
          ]
        },
        {
          "output_type": "stream",
          "name": "stderr",
          "text": [
            "<ipython-input-2-2c07f673c1d9>:8: FutureWarning: In a future version of pandas all arguments of StringMethods.split except for the argument 'pat' will be keyword-only.\n",
            "  df[['code', 'location']] = df['row'].str.split(' ', 1, expand=True)\n"
          ]
        }
      ],
      "source": [
        "import pandas as pd\n",
        "\n",
        "df = pd.DataFrame({\n",
        "    'row': ['00000 UNITED STATES', '01000 ALABAMA', '01001 Autauga Country, AL', '01003 Baldwin County, AL', '01005 Barbour County, AL']\n",
        "})\n",
        "\n",
        "# Split the 'row' column into two new columns 'code' and 'location'\n",
        "df[['code', 'location']] = df['row'].str.split(' ', 1, expand=True)\n",
        "\n",
        "# Drop the original 'row' column\n",
        "df.drop(columns=['row'], inplace=True)\n",
        "\n",
        "print(df)"
      ]
    }
  ]
}